{
 "cells": [
  {
   "cell_type": "markdown",
   "id": "db853ad3",
   "metadata": {},
   "source": [
    "## RPA e Python - Automatização de Processo com Pyautogui\n",
    "### pyautogui\n",
    "* Biblioteca para controlar Mouse, Teclado e Tela do Computador com o Python\n",
    "(Link: https://pyautogui.readthedocs.io/en/latest/quickstart.html)\n",
    "* O código a seguir serve para:\n",
    "-- Qualquer site\n",
    "-- Qualquer programa ou pasta do seu computador\n",
    "-- Qualquer Sistema que você tenha que acessar e automatizar\n",
    "\n",
    "### Vamos automatizar o backup de arquivos no sistema\n",
    "No nosso exemplo, vamos criar um processo que faça o upload de 1 arquivo no Google Drive de forma automática e rápida"
   ]
  },
  {
   "cell_type": "code",
   "execution_count": 31,
   "id": "3acf514d",
   "metadata": {
    "ExecuteTime": {
     "end_time": "2022-01-21T13:59:45.178000Z",
     "start_time": "2022-01-21T13:59:19.264602Z"
    }
   },
   "outputs": [
    {
     "data": {
      "text/plain": [
       "'OK'"
      ]
     },
     "execution_count": 31,
     "metadata": {},
     "output_type": "execute_result"
    }
   ],
   "source": [
    "# importa a biblioteca\n",
    "import pyautogui\n",
    "import time\n",
    "\n",
    "# Tarefas para automatizar:\n",
    "pyautogui.alert('O código vai começar. Não toque no mouse ou no teclado enquanto o código está rodando')\n",
    "pyautogui.PAUSE = 1\n",
    "\n",
    "# Abrir o google drive \n",
    "pyautogui.press('winleft')\n",
    "pyautogui.write('chrome')\n",
    "pyautogui.press('enter')\n",
    "time.sleep(1)\n",
    "pyautogui.write('https://drive.google.com/drive/u/1/my-drive')\n",
    "pyautogui.press('enter')\n",
    "# Ir pra área de trabalho - usar o atalho (com o hotkey passamos combinações de teclas)\n",
    "pyautogui.hotkey('winleft','d')\n",
    "\n",
    "# Clicar no arquivo que quero fazer backup e arrastar ele\n",
    "pyautogui.moveTo(x=1238, y=59) #você precisa checar a posição x e  y do arquivo no seu desktop com o .position \n",
    "time.sleep(1)\n",
    "pyautogui.mouseDown()\n",
    "time.sleep(1)\n",
    "pyautogui.moveTo(x=686, y=598)\n",
    "time.sleep(1)\n",
    "\n",
    "# Enquanto arrasta, mudar para o Google Drive\n",
    "# Largar no arquivo no Google Drive\n",
    "pyautogui.hotkey('alt','tab')\n",
    "time.sleep(1)\n",
    "pyautogui.mouseUp()\n",
    "# esperar 5 segundos\n",
    "time.sleep(5)\n",
    "pyautogui.alert(\"O código acabou de rodar. Pode usar o seu computador de novo\")"
   ]
  },
  {
   "cell_type": "code",
   "execution_count": 30,
   "id": "fe892fdf",
   "metadata": {
    "ExecuteTime": {
     "end_time": "2022-01-21T13:58:58.351392Z",
     "start_time": "2022-01-21T13:58:58.331405Z"
    }
   },
   "outputs": [
    {
     "data": {
      "text/plain": [
       "Point(x=331, y=175)"
      ]
     },
     "execution_count": 30,
     "metadata": {},
     "output_type": "execute_result"
    }
   ],
   "source": [
    "pyautogui.position()"
   ]
  },
  {
   "cell_type": "code",
   "execution_count": 23,
   "id": "c04aafe7",
   "metadata": {
    "ExecuteTime": {
     "end_time": "2022-01-21T13:45:04.774482Z",
     "start_time": "2022-01-21T13:45:04.732463Z"
    }
   },
   "outputs": [
    {
     "name": "stdout",
     "output_type": "stream",
     "text": [
      "['\\t', '\\n', '\\r', ' ', '!', '\"', '#', '$', '%', '&', \"'\", '(', ')', '*', '+', ',', '-', '.', '/', '0', '1', '2', '3', '4', '5', '6', '7', '8', '9', ':', ';', '<', '=', '>', '?', '@', '[', '\\\\', ']', '^', '_', '`', 'a', 'b', 'c', 'd', 'e', 'f', 'g', 'h', 'i', 'j', 'k', 'l', 'm', 'n', 'o', 'p', 'q', 'r', 's', 't', 'u', 'v', 'w', 'x', 'y', 'z', '{', '|', '}', '~', 'accept', 'add', 'alt', 'altleft', 'altright', 'apps', 'backspace', 'browserback', 'browserfavorites', 'browserforward', 'browserhome', 'browserrefresh', 'browsersearch', 'browserstop', 'capslock', 'clear', 'convert', 'ctrl', 'ctrlleft', 'ctrlright', 'decimal', 'del', 'delete', 'divide', 'down', 'end', 'enter', 'esc', 'escape', 'execute', 'f1', 'f10', 'f11', 'f12', 'f13', 'f14', 'f15', 'f16', 'f17', 'f18', 'f19', 'f2', 'f20', 'f21', 'f22', 'f23', 'f24', 'f3', 'f4', 'f5', 'f6', 'f7', 'f8', 'f9', 'final', 'fn', 'hanguel', 'hangul', 'hanja', 'help', 'home', 'insert', 'junja', 'kana', 'kanji', 'launchapp1', 'launchapp2', 'launchmail', 'launchmediaselect', 'left', 'modechange', 'multiply', 'nexttrack', 'nonconvert', 'num0', 'num1', 'num2', 'num3', 'num4', 'num5', 'num6', 'num7', 'num8', 'num9', 'numlock', 'pagedown', 'pageup', 'pause', 'pgdn', 'pgup', 'playpause', 'prevtrack', 'print', 'printscreen', 'prntscrn', 'prtsc', 'prtscr', 'return', 'right', 'scrolllock', 'select', 'separator', 'shift', 'shiftleft', 'shiftright', 'sleep', 'space', 'stop', 'subtract', 'tab', 'up', 'volumedown', 'volumemute', 'volumeup', 'win', 'winleft', 'winright', 'yen', 'command', 'option', 'optionleft', 'optionright']\n"
     ]
    }
   ],
   "source": [
    "print(pyautogui.KEYBOARD_KEYS)"
   ]
  },
  {
   "cell_type": "code",
   "execution_count": null,
   "id": "8de9e315",
   "metadata": {},
   "outputs": [],
   "source": []
  }
 ],
 "metadata": {
  "kernelspec": {
   "display_name": "Python 3",
   "language": "python",
   "name": "python3"
  },
  "language_info": {
   "codemirror_mode": {
    "name": "ipython",
    "version": 3
   },
   "file_extension": ".py",
   "mimetype": "text/x-python",
   "name": "python",
   "nbconvert_exporter": "python",
   "pygments_lexer": "ipython3",
   "version": "3.8.8"
  },
  "toc": {
   "base_numbering": 1,
   "nav_menu": {},
   "number_sections": true,
   "sideBar": true,
   "skip_h1_title": false,
   "title_cell": "Table of Contents",
   "title_sidebar": "Contents",
   "toc_cell": false,
   "toc_position": {},
   "toc_section_display": true,
   "toc_window_display": false
  },
  "varInspector": {
   "cols": {
    "lenName": 16,
    "lenType": 16,
    "lenVar": 40
   },
   "kernels_config": {
    "python": {
     "delete_cmd_postfix": "",
     "delete_cmd_prefix": "del ",
     "library": "var_list.py",
     "varRefreshCmd": "print(var_dic_list())"
    },
    "r": {
     "delete_cmd_postfix": ") ",
     "delete_cmd_prefix": "rm(",
     "library": "var_list.r",
     "varRefreshCmd": "cat(var_dic_list()) "
    }
   },
   "types_to_exclude": [
    "module",
    "function",
    "builtin_function_or_method",
    "instance",
    "_Feature"
   ],
   "window_display": false
  }
 },
 "nbformat": 4,
 "nbformat_minor": 5
}
